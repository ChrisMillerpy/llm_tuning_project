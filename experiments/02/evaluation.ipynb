{
 "cells": [
  {
   "cell_type": "code",
   "execution_count": 12,
   "metadata": {},
   "outputs": [
    {
     "data": {
      "image/png": "[encoded data removed]",
      "text/plain": [
       "<Figure size 640x480 with 1 Axes>"
      ]
     },
     "metadata": {},
     "output_type": "display_data"
    }
   ],
   "source": [
    "from m2_cw.inference import load_forecast, string_to_array\n",
    "from m2_cw.preprocessing import load_and_preprocess\n",
    "from pathlib import Path\n",
    "import numpy as np\n",
    "import matplotlib.pyplot as plt\n",
    "\n",
    "\n",
    "dir_path = Path.cwd()\n",
    "file_path = [ file for file in dir_path.iterdir() if \"forecast\" in str(file) ][0]\n",
    "forecasts = load_forecast(file_path)\n",
    "context_texts, gt_texts = load_and_preprocess()\n",
    "\n",
    "maes = []\n",
    "\n",
    "for idx, forecast in forecasts.items():\n",
    "    # Load the ground truth for that series\n",
    "    gt = gt_texts[idx]\n",
    "    gt = string_to_array(gt, trim=20)\n",
    "\n",
    "    # Check they match up\n",
    "    assert forecast.shape == gt.shape\n",
    "\n",
    "    mae = np.mean(np.abs(gt - forecast))\n",
    "    maes.append(mae)\n",
    "\n",
    "maes = np.array(maes)\n",
    "\n",
    "plt.hist(maes, bins=10)\n",
    "plt.show();"
   ]
  }
 ],
 "metadata": {
  "kernelspec": {
   "display_name": "M2 Coursework (Python)",
   "language": "python",
   "name": "m2_coursework"
  },
  "language_info": {
   "codemirror_mode": {
    "name": "ipython",
    "version": 3
   },
   "file_extension": ".py",
   "mimetype": "text/x-python",
   "name": "python",
   "nbconvert_exporter": "python",
   "pygments_lexer": "ipython3",
   "version": "3.13.1"
  }
 },
 "nbformat": 4,
 "nbformat_minor": 2
}
