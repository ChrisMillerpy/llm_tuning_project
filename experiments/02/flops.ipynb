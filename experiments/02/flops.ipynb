{
 "cells": [
  {
   "cell_type": "code",
   "execution_count": null,
   "metadata": {},
   "outputs": [
    {
     "name": "stdout",
     "output_type": "stream",
     "text": [
      "Flops Used: 9.04e+15\n",
      "Percentage of Budget: 9.039%\n"
     ]
    }
   ],
   "source": [
    "from m2_cw.flops import flops_qwen, printsf\n",
    "\n",
    "flops_per_forecast = flops_qwen(\n",
    "    mode=\"inference\",\n",
    "    generation_length=20*13,\n",
    "    lora_rank=0,\n",
    ")\n",
    "\n",
    "total_flops_used = 100 * flops_per_forecast\n",
    "printsf(total_flops_used, prefix=\"Flops Used\")\n",
    "print(f\"Percentage of Budget: {100 * total_flops_used / 1e17 :.3f}%\")"
   ]
  }
 ],
 "metadata": {
  "kernelspec": {
   "display_name": "M2 Coursework (Python)",
   "language": "python",
   "name": "m2_coursework"
  },
  "language_info": {
   "codemirror_mode": {
    "name": "ipython",
    "version": 3
   },
   "file_extension": ".py",
   "mimetype": "text/x-python",
   "name": "python",
   "nbconvert_exporter": "python",
   "pygments_lexer": "ipython3",
   "version": "3.13.1"
  }
 },
 "nbformat": 4,
 "nbformat_minor": 2
}
