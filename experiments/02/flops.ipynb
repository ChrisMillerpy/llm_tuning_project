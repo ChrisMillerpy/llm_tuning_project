{
 "cells": [
  {
   "cell_type": "code",
   "execution_count": 4,
   "metadata": {},
   "outputs": [
    {
     "name": "stdout",
     "output_type": "stream",
     "text": [
      "Flops Used: 3.89e+15\n",
      "Percentage of Budget: 3.891%\n",
      "7.78e+13\n"
     ]
    }
   ],
   "source": [
    "from m2_cw.flops import flops_qwen, InferenceConfig\n",
    "\n",
    "config = InferenceConfig(\n",
    "    mode=\"inference\",\n",
    "    lora_rank=0,\n",
    "    batch_size=1,\n",
    "    generation_length=20*11,\n",
    ")\n",
    "\n",
    "flops_per_forecast = flops_qwen(config)\n",
    "\n",
    "total_flops_used = 50 * flops_per_forecast\n",
    "print(f\"Flops Used: {total_flops_used:.3g}\")\n",
    "print(f\"Percentage of Budget: {100 * total_flops_used / 1e17 :.3f}%\")\n",
    "print(f\"{flops_per_forecast:.3g}\")"
   ]
  }
 ],
 "metadata": {
  "kernelspec": {
   "display_name": "M2 Coursework (Python)",
   "language": "python",
   "name": "m2_coursework"
  },
  "language_info": {
   "codemirror_mode": {
    "name": "ipython",
    "version": 3
   },
   "file_extension": ".py",
   "mimetype": "text/x-python",
   "name": "python",
   "nbconvert_exporter": "python",
   "pygments_lexer": "ipython3",
   "version": "3.13.1"
  }
 },
 "nbformat": 4,
 "nbformat_minor": 2
}
