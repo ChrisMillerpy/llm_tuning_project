{
 "cells": [
  {
   "cell_type": "code",
   "execution_count": 6,
   "metadata": {},
   "outputs": [
    {
     "name": "stdout",
     "output_type": "stream",
     "text": [
      "Context Length: 512\n",
      " - One step: 1.48e+12\n",
      " - One forecast: 7.79e+13\n",
      "\n",
      "Context Length: 768\n",
      " - One step: 2.29e+12\n",
      " - One forecast: 1.19e+14\n",
      "\n",
      "Train ratio: 0.65\n",
      "Infer ratio: 0.66\n"
     ]
    }
   ],
   "source": [
    "from m2_cw.flops import TrainConfig, InferenceConfig, flops_qwen\n",
    "import numpy as np\n",
    "\n",
    "context_lengths = [512, 768]\n",
    "\n",
    "train_costs = []\n",
    "infer_costs = []\n",
    "\n",
    "for length in context_lengths:\n",
    "    train_conf = TrainConfig(\n",
    "        sequence_length=length,\n",
    "        lora_rank=2,\n",
    "        batch_size=2,\n",
    "    )\n",
    "    inf_conf = InferenceConfig(\n",
    "        sequence_length=length,\n",
    "        generation_length=20*11,\n",
    "        lora_rank=2\n",
    "    )\n",
    "    flops_train = flops_qwen(train_conf)\n",
    "    flops_infer = flops_qwen(inf_conf)\n",
    "    print(f\"Context Length: {length}\")\n",
    "    print(f\" - One step: {flops_train:.3g}\")\n",
    "    print(f\" - One forecast: {flops_infer:.3g}\\n\")\n",
    "    train_costs.append(flops_train)\n",
    "    infer_costs.append(flops_infer)\n",
    "\n",
    "print(f\"Train ratio: {train_costs[0] / train_costs[1] :.2f}\")\n",
    "print(f\"Infer ratio: {infer_costs[0] / infer_costs[1] :.2f}\")"
   ]
  },
  {
   "cell_type": "code",
   "execution_count": 8,
   "metadata": {},
   "outputs": [
    {
     "name": "stdout",
     "output_type": "stream",
     "text": [
      "Context Length: 128\n",
      " - Train cost: 5.27e+14\n",
      " - Infer cost: 9.48e+13\n",
      "\n",
      "Context Length: 512\n",
      " - Train cost: 2.22e+15\n",
      " - Infer cost: 3.89e+14\n",
      "\n",
      "Context Length: 768\n",
      " - Train cost: 3.43e+15\n",
      " - Infer cost: 5.94e+14\n",
      "\n",
      "Train: 6.17e+15\n",
      "Inference: 1.08e+15\n",
      "Total: 7.25e+15\n"
     ]
    }
   ],
   "source": [
    "opt_steps = 1500\n",
    "num_forecasts = 5\n",
    "\n",
    "context_lengths = [128, 512, 768]\n",
    "\n",
    "train_costs = []\n",
    "infer_costs = []\n",
    "\n",
    "for length in context_lengths:\n",
    "    train_conf = TrainConfig(\n",
    "        sequence_length=length,\n",
    "        lora_rank=2,\n",
    "        batch_size=2,\n",
    "    )\n",
    "    inf_conf = InferenceConfig(\n",
    "        sequence_length=length,\n",
    "        generation_length=20*11,\n",
    "        lora_rank=2\n",
    "    )\n",
    "    flops_train = flops_qwen(train_conf) * opt_steps\n",
    "    flops_infer = flops_qwen(inf_conf) * num_forecasts\n",
    "    train_costs.append(flops_train)\n",
    "    infer_costs.append(flops_infer)\n",
    "\n",
    "for i in range(3):\n",
    "    print(f\"Context Length: {context_lengths[i]}\")\n",
    "    print(f\" - Train cost: {train_costs[i]:.3g}\")\n",
    "    print(f\" - Infer cost: {infer_costs[i]:.3g}\\n\")\n",
    "\n",
    "total_train_flops = np.sum(train_costs)\n",
    "total_infer_flops = np.sum(infer_costs)\n",
    "total_flops = total_infer_flops + total_train_flops\n",
    "\n",
    "print(f\"Train: {total_train_flops:.3g}\")\n",
    "print(f\"Inference: {total_infer_flops:.3g}\")\n",
    "print(f\"Total: {total_flops:.3g}\")"
   ]
  }
 ],
 "metadata": {
  "kernelspec": {
   "display_name": "M2 Coursework (Python)",
   "language": "python",
   "name": "m2_coursework"
  },
  "language_info": {
   "codemirror_mode": {
    "name": "ipython",
    "version": 3
   },
   "file_extension": ".py",
   "mimetype": "text/x-python",
   "name": "python",
   "nbconvert_exporter": "python",
   "pygments_lexer": "ipython3",
   "version": "3.13.1"
  }
 },
 "nbformat": 4,
 "nbformat_minor": 2
}
