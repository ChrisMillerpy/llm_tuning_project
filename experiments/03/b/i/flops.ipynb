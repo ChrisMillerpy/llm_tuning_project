{
 "cells": [
  {
   "cell_type": "code",
   "execution_count": null,
   "metadata": {},
   "outputs": [
    {
     "name": "stdout",
     "output_type": "stream",
     "text": [
      "Training\n",
      " - 4.19e+16\n",
      " - 41.91%\n",
      "Inference\n",
      " - 7.01e+15\n",
      " - 7.01%\n",
      "Total\n",
      " - 4.89e+16\n",
      " - 48.92\n"
     ]
    }
   ],
   "source": [
    "from m2_cw.flops import TrainConfig, InferenceConfig, flops_qwen\n",
    "from tabulate import tabulate\n",
    "\n",
    "learning_rates = [1e-5, 5e-5, 1e-4]\n",
    "lora_ranks = [2, 4, 8]\n",
    "experiment_number = 0\n",
    "opt_steps = 3150\n",
    "\n",
    "flops_train = 0\n",
    "flops_infer = 0\n",
    "\n",
    "table_data = [[\"Name\", \"Learning Rate\", \"LoRA Rank\"]]\n",
    "for lr in learning_rates:\n",
    "    for rank in lora_ranks:\n",
    "        table_data.append([f\"expt_{experiment_number}\", lr, rank])\n",
    "        train_config = TrainConfig(\n",
    "            batch_size=2,\n",
    "            lora_rank=rank,\n",
    "        )\n",
    "        infer_config = InferenceConfig(\n",
    "            generation_length=20 * 11,\n",
    "            lora_rank=rank,\n",
    "        )\n",
    "        n_forecasts = 5 if experiment_number < 6 else 20\n",
    "\n",
    "        flops_train += flops_qwen(train_config) * opt_steps\n",
    "        flops_infer += flops_qwen(infer_config) * n_forecasts\n",
    "        experiment_number += 1\n",
    "\n",
    "print(\"Training\")\n",
    "print(f\" - {flops_train:.3g}\")\n",
    "print(f\" - {100 * flops_train / 1e17 :.2f}%\")\n",
    "\n",
    "print(\"Inference\")\n",
    "print(f\" - {flops_infer:.3g}\")\n",
    "print(f\" - {100 * flops_infer / 1e17 :.2f}%\")\n",
    "\n",
    "print(\"Total\")\n",
    "print(f\" - {flops_train + flops_infer :.3g}\")\n",
    "print(f\" - {100 * (flops_train + flops_infer) / 1e17 :.2f}\")\n",
    "\n",
    "# print(\"\")\n",
    "# print(tabulate(table_data, tablefmt=\"latex\", headers=\"firstrow\"))"
   ]
  }
 ],
 "metadata": {
  "kernelspec": {
   "display_name": "M2 Coursework (Python)",
   "language": "python",
   "name": "m2_coursework"
  },
  "language_info": {
   "codemirror_mode": {
    "name": "ipython",
    "version": 3
   },
   "file_extension": ".py",
   "mimetype": "text/x-python",
   "name": "python",
   "nbconvert_exporter": "python",
   "pygments_lexer": "ipython3",
   "version": "3.13.1"
  }
 },
 "nbformat": 4,
 "nbformat_minor": 2
}
