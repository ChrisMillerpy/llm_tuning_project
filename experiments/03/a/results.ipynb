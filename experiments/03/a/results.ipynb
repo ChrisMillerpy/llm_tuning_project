{
 "cells": [
  {
   "cell_type": "code",
   "execution_count": null,
   "metadata": {},
   "outputs": [],
   "source": [
    "from m2_cw.inference import visualise_forecasts\n",
    "from pathlib import Path\n",
    "\n",
    "dir_contents = [ file for file in Path.cwd().iterdir() if \"forecast\" in str(file) ]\n",
    "assert dir_contents == 1\n",
    "forecast_path = dir_contents[0]\n",
    "\n",
    "visualise_forecasts(forecast_path, )"
   ]
  }
 ],
 "metadata": {
  "kernelspec": {
   "display_name": "M2 Coursework (Python)",
   "language": "python",
   "name": "m2_coursework"
  },
  "language_info": {
   "name": "python",
   "version": "3.13.1"
  }
 },
 "nbformat": 4,
 "nbformat_minor": 2
}
