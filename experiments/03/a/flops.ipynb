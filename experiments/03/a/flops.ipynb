{
 "cells": [
  {
   "cell_type": "code",
   "execution_count": 1,
   "metadata": {},
   "outputs": [
    {
     "name": "stdout",
     "output_type": "stream",
     "text": [
      "2.18e+16\n",
      "Percentage of budget: 21.79\n"
     ]
    }
   ],
   "source": [
    "from m2_cw.flops import flops_qwen, FlopsConfig\n",
    "\n",
    "config = FlopsConfig(\n",
    "    lora_rank=4,\n",
    "    batch_size=4,\n",
    "    mode=\"training\"\n",
    ")\n",
    "\n",
    "flops_per_opt_step = flops_qwen(config)\n",
    "opt_steps = 10000\n",
    "total_flops_used = opt_steps * flops_per_opt_step\n",
    "print(f\"{total_flops_used:.3g}\")\n",
    "print(f\"Percentage of budget: {100 * total_flops_used / 1e17 :.2f}\")"
   ]
  }
 ],
 "metadata": {
  "kernelspec": {
   "display_name": "M2 Coursework (Python)",
   "language": "python",
   "name": "m2_coursework"
  },
  "language_info": {
   "codemirror_mode": {
    "name": "ipython",
    "version": 3
   },
   "file_extension": ".py",
   "mimetype": "text/x-python",
   "name": "python",
   "nbconvert_exporter": "python",
   "pygments_lexer": "ipython3",
   "version": "3.13.1"
  }
 },
 "nbformat": 4,
 "nbformat_minor": 2
}
