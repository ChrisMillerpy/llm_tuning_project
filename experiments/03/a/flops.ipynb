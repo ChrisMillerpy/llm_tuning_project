{
 "cells": [
  {
   "cell_type": "code",
   "execution_count": 4,
   "metadata": {},
   "outputs": [
    {
     "name": "stdout",
     "output_type": "stream",
     "text": [
      "Training\n",
      " - 7.39e+15\n",
      " - Percentage of budget: 7.39\n",
      "Inference\n",
      " - 1.95e+15\n",
      " - Percentage of budget: 1.95\n",
      "Total\n",
      " - 9.34e+15\n",
      " - Total Percentage used: 9.34\n"
     ]
    }
   ],
   "source": [
    "from m2_cw.flops import flops_qwen, TrainConfig, InferenceConfig\n",
    "\n",
    "train_conf = TrainConfig(\n",
    "    lora_rank=4,\n",
    "    batch_size=2,\n",
    ")\n",
    "\n",
    "flops_per_opt_step = flops_qwen(train_conf)\n",
    "opt_steps = 5000\n",
    "total_flops_train = opt_steps * flops_per_opt_step\n",
    "print(\"Training\")\n",
    "print(f\" - {total_flops_train:.3g}\")\n",
    "print(f\" - Percentage of budget: {100 * total_flops_train / 1e17 :.2f}\")\n",
    "\n",
    "inf_conf = InferenceConfig(\n",
    "    lora_rank=4,\n",
    "    generation_length=11*20,\n",
    ")\n",
    "\n",
    "flops_per_forecast = flops_qwen(inf_conf)\n",
    "forecasts = 25\n",
    "total_flops_inference = forecasts * flops_per_forecast\n",
    "print(\"Inference\")\n",
    "print(f\" - {total_flops_inference:.3g}\")\n",
    "print(f\" - Percentage of budget: {100 * total_flops_inference / 1e17 :.2f}\")\n",
    "\n",
    "print(\"Total\")\n",
    "print(f\" - {total_flops_inference + total_flops_train :.3g}\")\n",
    "print(f\" - Total Percentage used: {100 * (total_flops_train + total_flops_inference) / 1e17 :.2f}\")"
   ]
  }
 ],
 "metadata": {
  "kernelspec": {
   "display_name": "M2 Coursework (Python)",
   "language": "python",
   "name": "m2_coursework"
  },
  "language_info": {
   "codemirror_mode": {
    "name": "ipython",
    "version": 3
   },
   "file_extension": ".py",
   "mimetype": "text/x-python",
   "name": "python",
   "nbconvert_exporter": "python",
   "pygments_lexer": "ipython3",
   "version": "3.13.1"
  }
 },
 "nbformat": 4,
 "nbformat_minor": 2
}
