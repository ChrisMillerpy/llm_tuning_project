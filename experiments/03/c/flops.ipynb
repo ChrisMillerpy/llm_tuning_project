{
 "cells": [
  {
   "cell_type": "code",
   "execution_count": 20,
   "metadata": {},
   "outputs": [
    {
     "name": "stdout",
     "output_type": "stream",
     "text": [
      "Train: 2.28e+16\n",
      "Inference: 7.78e+15\n",
      "Total: 3.05e+16\n"
     ]
    }
   ],
   "source": [
    "from m2_cw.flops import flops_qwen, TrainConfig, InferenceConfig\n",
    "\n",
    "opt_steps = 15400\n",
    "\n",
    "train_conf = TrainConfig(\n",
    "    batch_size=2,\n",
    "    lora_rank=2,\n",
    "    sequence_length=512,\n",
    ")\n",
    "flops_train = flops_qwen(train_conf) * opt_steps\n",
    "\n",
    "infer_conf = InferenceConfig(\n",
    "    lora_rank=2,\n",
    "    sequence_length=512,\n",
    "    generation_length=20*11,\n",
    ")\n",
    "flops_inference = 50 * flops_qwen(infer_conf)\n",
    "\n",
    "infer_conf = InferenceConfig(\n",
    "    lora_rank=0,\n",
    "    sequence_length=512,\n",
    "    generation_length=20*11,\n",
    ")\n",
    "\n",
    "flops_inference += 50 * flops_qwen(infer_conf)\n",
    "\n",
    "print(f\"Train: {flops_train:.3g}\")\n",
    "print(f\"Inference: {flops_inference:.3g}\")\n",
    "print(f\"Total: {flops_train + flops_inference :.3g}\")"
   ]
  }
 ],
 "metadata": {
  "kernelspec": {
   "display_name": "M2 Coursework (Python)",
   "language": "python",
   "name": "m2_coursework"
  },
  "language_info": {
   "codemirror_mode": {
    "name": "ipython",
    "version": 3
   },
   "file_extension": ".py",
   "mimetype": "text/x-python",
   "name": "python",
   "nbconvert_exporter": "python",
   "pygments_lexer": "ipython3",
   "version": "3.13.1"
  }
 },
 "nbformat": 4,
 "nbformat_minor": 2
}
