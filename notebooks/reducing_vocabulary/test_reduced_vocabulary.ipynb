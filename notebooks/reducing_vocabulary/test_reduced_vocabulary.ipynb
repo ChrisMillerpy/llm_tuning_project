{
 "cells": [
  {
   "cell_type": "code",
   "execution_count": null,
   "metadata": {},
   "outputs": [
    {
     "name": "stderr",
     "output_type": "stream",
     "text": [
      "Sliding Window Attention is enabled but not implemented for `sdpa`; unexpected results may be encountered.\n"
     ]
    },
    {
     "name": "stdout",
     "output_type": "stream",
     "text": [
      "cpu\n",
      "cpu\n"
     ]
    }
   ],
   "source": [
    "from m2_cw import load_qwen, convert_tokens_to\n",
    "from m2_cw import load_and_preprocess\n",
    "import torch\n",
    "\n",
    "\n",
    "train_texts, val_texts = load_and_preprocess(\"data/lotka_volterra_data.h5\")\n",
    "\n",
    "full_model, _ = load_qwen(small_vocabulary=False)\n",
    "reduced_model, tokenizer, token_map = load_qwen(small_vocabulary=True)\n",
    "\n",
    "device = torch.device(\"cpu\")\n",
    "full_model.to(device)\n",
    "reduced_model.to(device)\n",
    "\n",
    "print(full_model.device)\n",
    "print(reduced_model.device)"
   ]
  },
  {
   "cell_type": "code",
   "execution_count": 2,
   "metadata": {},
   "outputs": [
    {
     "name": "stdout",
     "output_type": "stream",
     "text": [
      "Qwen2ForCausalLM(\n",
      "  (model): Qwen2Model(\n",
      "    (embed_tokens): Embedding(151936, 896)\n",
      "    (layers): ModuleList(\n",
      "      (0-23): 24 x Qwen2DecoderLayer(\n",
      "        (self_attn): Qwen2Attention(\n",
      "          (q_proj): Linear(in_features=896, out_features=896, bias=True)\n",
      "          (k_proj): Linear(in_features=896, out_features=128, bias=True)\n",
      "          (v_proj): Linear(in_features=896, out_features=128, bias=True)\n",
      "          (o_proj): Linear(in_features=896, out_features=896, bias=False)\n",
      "        )\n",
      "        (mlp): Qwen2MLP(\n",
      "          (gate_proj): Linear(in_features=896, out_features=4864, bias=False)\n",
      "          (up_proj): Linear(in_features=896, out_features=4864, bias=False)\n",
      "          (down_proj): Linear(in_features=4864, out_features=896, bias=False)\n",
      "          (act_fn): SiLU()\n",
      "        )\n",
      "        (input_layernorm): Qwen2RMSNorm((896,), eps=1e-06)\n",
      "        (post_attention_layernorm): Qwen2RMSNorm((896,), eps=1e-06)\n",
      "      )\n",
      "    )\n",
      "    (norm): Qwen2RMSNorm((896,), eps=1e-06)\n",
      "    (rotary_emb): Qwen2RotaryEmbedding()\n",
      "  )\n",
      "  (lm_head): Linear(in_features=896, out_features=151936, bias=True)\n",
      ")\n"
     ]
    }
   ],
   "source": [
    "print(full_model)"
   ]
  },
  {
   "cell_type": "code",
   "execution_count": 3,
   "metadata": {},
   "outputs": [
    {
     "name": "stdout",
     "output_type": "stream",
     "text": [
      "Qwen2ForCausalLM(\n",
      "  (model): Qwen2Model(\n",
      "    (embed_tokens): Embedding(13, 896)\n",
      "    (layers): ModuleList(\n",
      "      (0-23): 24 x Qwen2DecoderLayer(\n",
      "        (self_attn): Qwen2Attention(\n",
      "          (q_proj): Linear(in_features=896, out_features=896, bias=True)\n",
      "          (k_proj): Linear(in_features=896, out_features=128, bias=True)\n",
      "          (v_proj): Linear(in_features=896, out_features=128, bias=True)\n",
      "          (o_proj): Linear(in_features=896, out_features=896, bias=False)\n",
      "        )\n",
      "        (mlp): Qwen2MLP(\n",
      "          (gate_proj): Linear(in_features=896, out_features=4864, bias=False)\n",
      "          (up_proj): Linear(in_features=896, out_features=4864, bias=False)\n",
      "          (down_proj): Linear(in_features=4864, out_features=896, bias=False)\n",
      "          (act_fn): SiLU()\n",
      "        )\n",
      "        (input_layernorm): Qwen2RMSNorm((896,), eps=1e-06)\n",
      "        (post_attention_layernorm): Qwen2RMSNorm((896,), eps=1e-06)\n",
      "      )\n",
      "    )\n",
      "    (norm): Qwen2RMSNorm((896,), eps=1e-06)\n",
      "    (rotary_emb): Qwen2RotaryEmbedding()\n",
      "  )\n",
      "  (lm_head): Linear(in_features=896, out_features=13, bias=True)\n",
      ")\n"
     ]
    }
   ],
   "source": [
    "print(reduced_model)"
   ]
  },
  {
   "cell_type": "code",
   "execution_count": 8,
   "metadata": {},
   "outputs": [
    {
     "name": "stdout",
     "output_type": "stream",
     "text": [
      "Got a batch encoding\n"
     ]
    },
    {
     "name": "stderr",
     "output_type": "stream",
     "text": [
      "/Users/chrismiller/venvs/m2_venvs/m2_coursework/lib/python3.13/site-packages/transformers/generation/configuration_utils.py:629: UserWarning: `do_sample` is set to `False`. However, `temperature` is set to `0.7` -- this flag is only used in sample-based generation modes. You should set `do_sample=True` or unset `temperature`.\n",
      "  warnings.warn(\n",
      "/Users/chrismiller/venvs/m2_venvs/m2_coursework/lib/python3.13/site-packages/transformers/generation/configuration_utils.py:634: UserWarning: `do_sample` is set to `False`. However, `top_p` is set to `0.8` -- this flag is only used in sample-based generation modes. You should set `do_sample=True` or unset `top_p`.\n",
      "  warnings.warn(\n",
      "/Users/chrismiller/venvs/m2_venvs/m2_coursework/lib/python3.13/site-packages/transformers/generation/configuration_utils.py:651: UserWarning: `do_sample` is set to `False`. However, `top_k` is set to `20` -- this flag is only used in sample-based generation modes. You should set `do_sample=True` or unset `top_k`.\n",
      "  warnings.warn(\n"
     ]
    },
    {
     "name": "stdout",
     "output_type": "stream",
     "text": [
      "Got a tensor\n",
      "['7.01,1.28;7.83,1.24;']\n",
      "['7.01,1.28;7.83,1.24;']\n"
     ]
    }
   ],
   "source": [
    "# Test of the reduced model's consistency\n",
    "\n",
    "text = train_texts[0]\n",
    "\n",
    "# Tokenize\n",
    "full_tokens = tokenizer(text, return_tensors=\"pt\", add_special_tokens=False)\n",
    "reduced_tokens = convert_tokens_to(\"forecast\", full_tokens, token_map)\n",
    "num_input_tokens = full_tokens.input_ids.shape[1]\n",
    "\n",
    "# Generate text with full model\n",
    "full_output = full_model.generate(**full_tokens, max_new_tokens=20, do_sample=False)\n",
    "full_new_tokens = full_output[:, num_input_tokens:]\n",
    "full_generated_text = tokenizer.batch_decode(full_new_tokens, skip_special_tokens=True)\n",
    "\n",
    "# Generate text with reduced model\n",
    "reduced_output = reduced_model.generate(**reduced_tokens, max_new_tokens=20, do_sample=False)\n",
    "reduced_new_tokens = reduced_output[:, num_input_tokens:]\n",
    "reduced_new_tokens = convert_tokens_to(\"qwen\", reduced_new_tokens, token_map)\n",
    "reduced_generated_text = tokenizer.batch_decode(reduced_new_tokens, skip_special_tokens=True)\n",
    "\n",
    "print(full_generated_text)\n",
    "print(reduced_generated_text)"
   ]
  },
  {
   "cell_type": "code",
   "execution_count": null,
   "metadata": {},
   "outputs": [],
   "source": []
  }
 ],
 "metadata": {
  "kernelspec": {
   "display_name": "M2 Coursework (Python)",
   "language": "python",
   "name": "m2_coursework"
  },
  "language_info": {
   "codemirror_mode": {
    "name": "ipython",
    "version": 3
   },
   "file_extension": ".py",
   "mimetype": "text/x-python",
   "name": "python",
   "nbconvert_exporter": "python",
   "pygments_lexer": "ipython3",
   "version": "3.13.1"
  }
 },
 "nbformat": 4,
 "nbformat_minor": 2
}
