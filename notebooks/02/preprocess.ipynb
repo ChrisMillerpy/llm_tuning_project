{
 "cells": [
  {
   "cell_type": "code",
   "execution_count": 15,
   "metadata": {},
   "outputs": [
    {
     "name": "stdout",
     "output_type": "stream",
     "text": [
      "[[0.9714744  1.0054137 ]\n",
      " [1.0787003  0.82180643]]\n",
      "337,348;374,285;437,\n",
      "[18, 18, 22, 11, 18, 19, 23, 26, 18, 22, 19, 11, 17, 23, 20, 26, 19, 18, 22, 11]\n",
      "tensor([ 4,  4,  8, 11,  4,  5,  9, 12,  4,  8,  5, 11,  3,  9,  6, 12,  5,  4,\n",
      "         8, 11])\n",
      "[[1.0732226 1.112855 ]\n",
      " [0.8540631 0.9001321]]\n",
      "417,432;332,350;298,\n",
      "[19, 16, 22, 11, 19, 18, 17, 26, 18, 18, 17, 11, 18, 20, 15, 26, 17, 24, 23, 11]\n",
      "tensor([ 5,  2,  8, 11,  5,  4,  3, 12,  4,  4,  3, 11,  4,  6,  1, 12,  3, 10,\n",
      "         9, 11])\n"
     ]
    }
   ],
   "source": [
    "from pathlib import Path\n",
    "from m2_cw.preprocessing import load_and_preprocess, read_data\n",
    "from m2_cw.qwen import load_qwen, TokenConverter\n",
    "\n",
    "data_path = Path.cwd().parent.parent / \"data/lotka_volterra_data.h5\"\n",
    "\n",
    "model, tokenizer, token_map = load_qwen(small_vocabulary=True)\n",
    "converter = TokenConverter(token_map)\n",
    "\n",
    "def showcase_preprocessing(idx, n=2, tokenizer=tokenizer, converter=converter):\n",
    "    train, val, test = load_and_preprocess(eval=True)\n",
    "    traj_data = read_data(data_path=data_path)\n",
    "    raw = traj_data[idx, :n, :]\n",
    "    print(raw)\n",
    "\n",
    "    preprocessed = train[idx][:10*n]\n",
    "    print(preprocessed)\n",
    "\n",
    "    qwen_tokens = tokenizer(preprocessed)\n",
    "    print(qwen_tokens.input_ids)\n",
    "\n",
    "    my_tokens = converter.to(qwen_tokens)\n",
    "    print(my_tokens.input_ids)\n",
    "\n",
    "showcase_preprocessing(1)\n",
    "showcase_preprocessing(2)"
   ]
  }
 ],
 "metadata": {
  "kernelspec": {
   "display_name": "M2 Coursework (Python)",
   "language": "python",
   "name": "m2_coursework"
  },
  "language_info": {
   "codemirror_mode": {
    "name": "ipython",
    "version": 3
   },
   "file_extension": ".py",
   "mimetype": "text/x-python",
   "name": "python",
   "nbconvert_exporter": "python",
   "pygments_lexer": "ipython3",
   "version": "3.13.1"
  }
 },
 "nbformat": 4,
 "nbformat_minor": 2
}
