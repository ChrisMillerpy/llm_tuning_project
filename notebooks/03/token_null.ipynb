{
 "cells": [
  {
   "cell_type": "code",
   "execution_count": 1,
   "metadata": {},
   "outputs": [
    {
     "name": "stderr",
     "output_type": "stream",
     "text": [
      "Sliding Window Attention is enabled but not implemented for `sdpa`; unexpected results may be encountered.\n"
     ]
    },
    {
     "name": "stdout",
     "output_type": "stream",
     "text": [
      "<|endoftext|> tensor([151643]) 151643\n",
      "0 tensor([15]) 15\n",
      "1 tensor([16]) 16\n",
      "2 tensor([17]) 17\n",
      "3 tensor([18]) 18\n",
      "4 tensor([19]) 19\n",
      "5 tensor([20]) 20\n",
      "6 tensor([21]) 21\n",
      "7 tensor([22]) 22\n",
      "8 tensor([23]) 23\n",
      "9 tensor([24]) 24\n",
      ", tensor([11]) 11\n",
      "; tensor([26]) 26\n"
     ]
    }
   ],
   "source": [
    "from m2_cw.qwen import load_qwen\n",
    "\n",
    "model, tokenizer, token_map = load_qwen(small_vocabulary=True)"
   ]
  }
 ],
 "metadata": {
  "kernelspec": {
   "display_name": "M2 Coursework (Python)",
   "language": "python",
   "name": "m2_coursework"
  },
  "language_info": {
   "codemirror_mode": {
    "name": "ipython",
    "version": 3
   },
   "file_extension": ".py",
   "mimetype": "text/x-python",
   "name": "python",
   "nbconvert_exporter": "python",
   "pygments_lexer": "ipython3",
   "version": "3.13.1"
  }
 },
 "nbformat": 4,
 "nbformat_minor": 2
}
